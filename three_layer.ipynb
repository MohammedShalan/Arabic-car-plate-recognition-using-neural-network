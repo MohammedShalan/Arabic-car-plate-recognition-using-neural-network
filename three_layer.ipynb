{
 "cells": [
  {
   "cell_type": "code",
   "execution_count": 109,
   "metadata": {
    "collapsed": true
   },
   "outputs": [],
   "source": [
    "import numpy as np\n",
    "import os\n",
    "from PIL import Image\n",
    "import random\n",
    "import matplotlib.pyplot as plt"
   ]
  },
  {
   "cell_type": "code",
   "execution_count": 2,
   "metadata": {
    "collapsed": true
   },
   "outputs": [],
   "source": [
    "\n",
    "def initialize_parameters(layerdims):\n",
    "    parameters={}\n",
    "    L = len(layerdims)\n",
    "    for i in range(1, L):\n",
    "        parameters[\"w\"+str(i)] = np.random.randn( layerdims[i], layerdims[i-1]) * 0.1\n",
    "        parameters[\"b\"+str(i)] = np.zeros( (layerdims[i],1))\n",
    "    return parameters\n",
    "\n"
   ]
  },
  {
   "cell_type": "code",
   "execution_count": 1,
   "metadata": {
    "collapsed": true
   },
   "outputs": [],
   "source": [
    "def sigmoid(z):\n",
    "    return 1/(1 + np.exp(-z))\n",
    "\n",
    "def sigmoid_prime(z):\n",
    "    return z * ( 1 - z )"
   ]
  },
  {
   "cell_type": "code",
   "execution_count": 3,
   "metadata": {
    "collapsed": true
   },
   "outputs": [],
   "source": [
    "def feedforward(X, parameters,layerdims):\n",
    "    L = len(layerdims) \n",
    "    _all = {}\n",
    "    for i in range(1,L):\n",
    "        if(i==1):\n",
    "            _all['Z'+str(i)] = np.dot(parameters['W'+str(i)], X) + parameters['b'+str(i)]\n",
    "        else:\n",
    "            _all['Z'+str(i)] = np.dot(parameters['W'+str(i)], _all['A'+str(i-1)]) + parameters['b'+str(i)]\n",
    "        _all['A'+str(i)] = sigmoid(_all['Z'+str(i)])\n",
    "    \n",
    "    output =  _all['A'+str(L-1)]\n",
    "    return output,_all"
   ]
  },
  {
   "cell_type": "code",
   "execution_count": 79,
   "metadata": {
    "collapsed": true
   },
   "outputs": [],
   "source": [
    "def calculate_cost(A2, Y):\n",
    "    m = Y.shape[1] # number of example\n",
    "    logprobs = np.multiply(np.log(A2),Y) + np.multiply(np.log(1-A2),1-Y)\n",
    "    cost = - np.sum(logprobs)/m\n",
    "    return cost"
   ]
  },
  {
   "cell_type": "code",
   "execution_count": 4,
   "metadata": {
    "collapsed": true
   },
   "outputs": [],
   "source": [
    "def backpropagation(X,Y,params,_all,layerdims):\n",
    "    #Required parameters\n",
    "    m = X.shape[1]\n",
    "    grads ={}\n",
    "    L = len(layerdims) - 1\n",
    "    grads['dZ'+str(L)] = _all['A'+str(L)] - Y\n",
    "    grads['dW'+str(L)] = np.dot(grads['dZ'+str(L)] * sigmoid_prime(_all['A'+str(L)]) ,  np.transpose(_all['A'+str(L-1)]) )\n",
    "    grads['db'+str(L)] = np.sum(grads['dZ'+str(L)], axis = 1, keepdims = True)/m\n",
    "    \n",
    "    for i in list(reversed(range(1,L))):\n",
    "        grads['dZ'+str(i)] = np.dot(params['W'+str(i+1)].T,grads['dZ'+str(i+1)])\n",
    "        if(i==1):\n",
    "            grads['dW'+str(i)] = np.dot(grads['dZ'+str(i)] * sigmoid_prime(_all['A'+str(i)]) ,  np.transpose(X) )\n",
    "        else:\n",
    "            grads['dW'+str(i)] = np.dot(grads['dZ'+str(i)] * sigmoid_prime(_all['A'+str(i)]) ,  np.transpose(_all['A'+str(i-1)]) )\n",
    "        grads['db'+str(i)] = np.sum(grads['dZ'+str(i)], axis = 1, keepdims = True)/m\n",
    "    \n",
    "    return grads"
   ]
  },
  {
   "cell_type": "code",
   "execution_count": 5,
   "metadata": {
    "collapsed": true
   },
   "outputs": [],
   "source": [
    "def update_params(params, grads, learning_rate):\n",
    "    # each layer has 2 parameters (W,b)\n",
    "    L = len(params) // 2\n",
    "    for l in range(L):\n",
    "        params[\"W\"+str(l+1)] = params[\"W\"+str(l+1)] - learning_rate * grads[\"dW\"+str(l+1)]\n",
    "        params[\"b\"+str(l+1)] = params[\"b\"+str(l+1)] - learning_rate * grads[\"db\"+str(l+1)]\n",
    "        \n",
    "    return params"
   ]
  },
  {
   "cell_type": "code",
   "execution_count": 12,
   "metadata": {},
   "outputs": [
    {
     "name": "stdout",
     "output_type": "stream",
     "text": [
      "Unique Classes: 21\n",
      "Total Images: 383\n",
      "Test images: 193 (33%)\n"
     ]
    }
   ],
   "source": [
    "cwd=os.getcwd()\n",
    "data_path_training = cwd + '/training'\n",
    "data_path_testing = cwd + '/testing'\n",
    "\n",
    "directories = [d for d in os.listdir(data_path_training) \n",
    "                   if os.path.isdir(os.path.join(data_path_training, d))]\n",
    "test_images = []\n",
    "test_labels = []\n",
    "labels = []\n",
    "images = []\n",
    "for image in os.listdir(data_path_testing):\n",
    "    test_labels.append(image.split(\"_\")[0])\n",
    "    url = os.path.join(data_path_testing,image)\n",
    "    img = np.array(Image.open(url))\n",
    "    test_images.append(img)\n",
    "for d in directories:\n",
    "    label_dir = os.path.join(data_path_training, d)\n",
    "    filenames = [os.path.join(label_dir, file) for file in os.listdir(label_dir) if file.endswith(('.png','.jpg')) ]\n",
    "    \n",
    "    for f in filenames:\n",
    "        img = np.array(Image.open(f))\n",
    "        images.append(img)\n",
    "        labels.append(d)\n",
    "\n",
    "print(\"Unique Classes: {0}\\nTotal Images: {1}\".format(len(set(labels)), len(images)))\n",
    "test_percentage = len(test_images) / (len(images) + len(test_images)) \n",
    "print(\"Test images: {} ({}%)\".format(len(test_images),int(test_percentage*100)))"
   ]
  },
  {
   "cell_type": "code",
   "execution_count": 196,
   "metadata": {
    "collapsed": true
   },
   "outputs": [],
   "source": [
    "trainX_one = []\n",
    "testX_one = []\n",
    "for image in images:\n",
    "    image = ((np.asfarray(image) / 255.0 * 0.99) + 0.01 ).flatten()\n",
    "    Input = np.array(image, ndmin=2).T\n",
    "    trainX_one.append(Input)\n",
    "    \n",
    "for image in test_images:\n",
    "    image = ((np.asfarray(image) / 255.0 * 0.99) + 0.01 ).flatten()\n",
    "    Input = np.array(image, ndmin=2).T\n",
    "    testX_one.append(Input)\n"
   ]
  },
  {
   "cell_type": "code",
   "execution_count": null,
   "metadata": {},
   "outputs": [],
   "source": []
  },
  {
   "cell_type": "code",
   "execution_count": 61,
   "metadata": {
    "collapsed": true
   },
   "outputs": [],
   "source": [
    "trainX = []\n",
    "trainY = []\n",
    "for record in images:\n",
    "        # scale and shift the inputs\n",
    "        Input = ((np.asfarray(record) / 255.0 * 0.99) + 0.01 ).flatten()\n",
    "        trainX.append(Input)\n",
    "for label in labels:\n",
    "        targets = np.zeros(21) + 0.01\n",
    "        targets[int(label)-1] = 0.99\n",
    "        trainY.append(targets)\n",
    "trainX = np.array(trainX, ndmin=2).T\n",
    "trainY = np.array(trainY, ndmin=2).T\n"
   ]
  },
  {
   "cell_type": "code",
   "execution_count": 6,
   "metadata": {
    "collapsed": true
   },
   "outputs": [],
   "source": [
    "def neuralNetwork(trainX, trainY, network_size, num_epochs = 100,learning_rate=.01, print_output = True):\n",
    "    params = initialize_parameters(network_size)\n",
    "    # Loop (gradient descent)\n",
    "    for epoch in range(0, num_epochs):\n",
    "         \n",
    "        # Forward propagation\n",
    "        output, layerHistoy = feedforward(trainX, params,network_size)\n",
    "        # Compute the cost\n",
    "        cost = calculate_cost(output, trainY)\n",
    "        # Backpropagation\n",
    "        grads = backpropagation( trainX, trainY,params, layerHistoy,network_size)\n",
    "        # Gradient descent parameter update\n",
    "        params = update_params(params, grads,learning_rate)\n",
    "\n",
    "        # Print the cost every 1000 iterations\n",
    "        if print_output and epoch % 10 == 0:\n",
    "            print (\"Cost after iteration %i: %f\" %(epoch, cost))\n",
    "            costs.append(cost)\n",
    "    return params,costs"
   ]
  },
  {
   "cell_type": "code",
   "execution_count": 394,
   "metadata": {},
   "outputs": [
    {
     "name": "stdout",
     "output_type": "stream",
     "text": [
      "6720\n",
      "21\n",
      "Cost after iteration 0: 48.572606\n",
      "Cost after iteration 10: 10.098366\n",
      "Cost after iteration 20: 9.495147\n",
      "Cost after iteration 30: 9.288067\n",
      "Cost after iteration 40: 9.278682\n",
      "Cost after iteration 50: 9.265783\n",
      "Cost after iteration 60: 9.224686\n",
      "Cost after iteration 70: 9.205763\n",
      "Cost after iteration 80: 9.189240\n",
      "Cost after iteration 90: 9.202532\n",
      "Cost after iteration 100: 9.161576\n",
      "Cost after iteration 110: 9.139248\n",
      "Cost after iteration 120: 9.150843\n",
      "Cost after iteration 130: 9.110103\n",
      "Cost after iteration 140: 9.085584\n",
      "Cost after iteration 150: 9.079480\n",
      "Cost after iteration 160: 9.066217\n",
      "Cost after iteration 170: 9.048384\n",
      "Cost after iteration 180: 9.028589\n",
      "Cost after iteration 190: 8.994332\n",
      "Cost after iteration 200: 8.981009\n",
      "Cost after iteration 210: 8.956375\n",
      "Cost after iteration 220: 8.919893\n",
      "Cost after iteration 230: 8.894132\n",
      "Cost after iteration 240: 8.868668\n",
      "Cost after iteration 250: 8.849211\n",
      "Cost after iteration 260: 8.803529\n",
      "Cost after iteration 270: 8.779931\n",
      "Cost after iteration 280: 8.749700\n",
      "Cost after iteration 290: 8.697033\n",
      "Cost after iteration 300: 8.670733\n",
      "Cost after iteration 310: 8.609321\n",
      "Cost after iteration 320: 8.563231\n",
      "Cost after iteration 330: 8.457041\n",
      "Cost after iteration 340: 8.333704\n",
      "Cost after iteration 350: 7.975731\n",
      "Cost after iteration 360: 7.410948\n",
      "Cost after iteration 370: 6.716226\n",
      "Cost after iteration 380: 5.828261\n",
      "Cost after iteration 390: 4.932341\n",
      "Cost after iteration 400: 4.483916\n",
      "Cost after iteration 410: 4.353283\n",
      "Cost after iteration 420: 4.293074\n",
      "Cost after iteration 430: 4.251636\n",
      "Cost after iteration 440: 4.210855\n",
      "Cost after iteration 450: 4.159741\n",
      "Cost after iteration 460: 4.098258\n",
      "Cost after iteration 470: 4.028863\n",
      "Cost after iteration 480: 3.954262\n",
      "Cost after iteration 490: 3.877310\n",
      "Cost after iteration 500: 3.797291\n",
      "Cost after iteration 510: 3.714198\n",
      "Cost after iteration 520: 3.628663\n",
      "Cost after iteration 530: 3.543793\n",
      "Cost after iteration 540: 3.460789\n",
      "Cost after iteration 550: 3.377614\n",
      "Cost after iteration 560: 3.296694\n",
      "Cost after iteration 570: 3.218864\n",
      "Cost after iteration 580: 3.147359\n",
      "Cost after iteration 590: 3.077382\n",
      "Cost after iteration 600: 3.012142\n",
      "Cost after iteration 610: 2.951505\n",
      "Cost after iteration 620: 2.895102\n",
      "Cost after iteration 630: 2.840491\n",
      "Cost after iteration 640: 2.789340\n",
      "Cost after iteration 650: 2.740505\n",
      "Cost after iteration 660: 2.694883\n",
      "Cost after iteration 670: 2.651644\n",
      "Cost after iteration 680: 2.608588\n",
      "Cost after iteration 690: 2.567969\n",
      "Cost after iteration 700: 2.532178\n",
      "Cost after iteration 710: 2.496623\n",
      "Cost after iteration 720: 2.462180\n",
      "Cost after iteration 730: 2.430791\n",
      "Cost after iteration 740: 2.402672\n",
      "Cost after iteration 750: 2.375385\n",
      "Cost after iteration 760: 2.347738\n",
      "Cost after iteration 770: 2.320437\n",
      "Cost after iteration 780: 2.294043\n",
      "Cost after iteration 790: 2.268260\n",
      "Cost after iteration 800: 2.242388\n",
      "Cost after iteration 810: 2.216916\n",
      "Cost after iteration 820: 2.192420\n",
      "Cost after iteration 830: 2.169042\n",
      "Cost after iteration 840: 2.146762\n",
      "Cost after iteration 850: 2.125511\n",
      "Cost after iteration 860: 2.105204\n",
      "Cost after iteration 870: 2.085775\n",
      "Cost after iteration 880: 2.067198\n",
      "Cost after iteration 890: 2.049472\n",
      "Cost after iteration 900: 2.032590\n",
      "Cost after iteration 910: 2.016486\n",
      "Cost after iteration 920: 2.001057\n",
      "Cost after iteration 930: 1.986251\n",
      "Cost after iteration 940: 1.972069\n",
      "Cost after iteration 950: 1.958492\n",
      "Cost after iteration 960: 1.945447\n",
      "Cost after iteration 970: 1.932853\n",
      "Cost after iteration 980: 1.920682\n",
      "Cost after iteration 990: 1.908930\n",
      "Cost after iteration 1000: 1.897560\n",
      "Cost after iteration 1010: 1.886554\n",
      "Cost after iteration 1020: 1.875921\n",
      "Cost after iteration 1030: 1.865654\n",
      "Cost after iteration 1040: 1.855740\n",
      "Cost after iteration 1050: 1.846172\n",
      "Cost after iteration 1060: 1.836951\n",
      "Cost after iteration 1070: 1.828077\n",
      "Cost after iteration 1080: 1.819543\n",
      "Cost after iteration 1090: 1.811341\n",
      "Cost after iteration 1100: 1.803465\n",
      "Cost after iteration 1110: 1.795916\n",
      "Cost after iteration 1120: 1.788699\n",
      "Cost after iteration 1130: 1.781812\n",
      "Cost after iteration 1140: 1.775229\n",
      "Cost after iteration 1150: 1.768897\n",
      "Cost after iteration 1160: 1.762684\n",
      "Cost after iteration 1170: 1.756574\n",
      "Cost after iteration 1180: 1.750626\n",
      "Cost after iteration 1190: 1.744867\n",
      "Cost after iteration 1200: 1.739296\n",
      "Cost after iteration 1210: 1.733907\n",
      "Cost after iteration 1220: 1.728689\n",
      "Cost after iteration 1230: 1.723628\n",
      "Cost after iteration 1240: 1.718715\n",
      "Cost after iteration 1250: 1.713945\n",
      "Cost after iteration 1260: 1.709313\n",
      "Cost after iteration 1270: 1.704816\n",
      "Cost after iteration 1280: 1.700451\n",
      "Cost after iteration 1290: 1.696222\n",
      "Cost after iteration 1300: 1.692133\n",
      "Cost after iteration 1310: 1.688185\n",
      "Cost after iteration 1320: 1.684374\n",
      "Cost after iteration 1330: 1.680698\n",
      "Cost after iteration 1340: 1.677153\n",
      "Cost after iteration 1350: 1.673736\n",
      "Cost after iteration 1360: 1.670443\n",
      "Cost after iteration 1370: 1.667271\n",
      "Cost after iteration 1380: 1.664217\n",
      "Cost after iteration 1390: 1.661278\n",
      "Cost after iteration 1400: 1.658450\n",
      "Cost after iteration 1410: 1.655728\n",
      "Cost after iteration 1420: 1.653109\n",
      "Cost after iteration 1430: 1.650587\n",
      "Cost after iteration 1440: 1.648157\n",
      "Cost after iteration 1450: 1.645813\n",
      "Cost after iteration 1460: 1.643547\n",
      "Cost after iteration 1470: 1.641353\n",
      "Cost after iteration 1480: 1.639221\n",
      "Cost after iteration 1490: 1.637142\n",
      "Cost after iteration 1500: 1.635104\n",
      "Cost after iteration 1510: 1.633096\n",
      "Cost after iteration 1520: 1.631107\n",
      "Cost after iteration 1530: 1.629126\n",
      "Cost after iteration 1540: 1.627144\n",
      "Cost after iteration 1550: 1.625156\n",
      "Cost after iteration 1560: 1.623159\n",
      "Cost after iteration 1570: 1.621151\n",
      "Cost after iteration 1580: 1.619135\n",
      "Cost after iteration 1590: 1.617112\n",
      "Cost after iteration 1600: 1.615089\n",
      "Cost after iteration 1610: 1.613071\n",
      "Cost after iteration 1620: 1.611065\n",
      "Cost after iteration 1630: 1.609077\n",
      "Cost after iteration 1640: 1.607112\n",
      "Cost after iteration 1650: 1.605174\n",
      "Cost after iteration 1660: 1.603266\n",
      "Cost after iteration 1670: 1.601386\n",
      "Cost after iteration 1680: 1.599532\n",
      "Cost after iteration 1690: 1.597699\n",
      "Cost after iteration 1700: 1.595881\n",
      "Cost after iteration 1710: 1.594075\n",
      "Cost after iteration 1720: 1.592273\n",
      "Cost after iteration 1730: 1.590465\n",
      "Cost after iteration 1740: 1.588645\n",
      "Cost after iteration 1750: 1.586809\n",
      "Cost after iteration 1760: 1.584952\n",
      "Cost after iteration 1770: 1.583064\n",
      "Cost after iteration 1780: 1.581143\n",
      "Cost after iteration 1790: 1.579193\n",
      "Cost after iteration 1800: 1.577223\n",
      "Cost after iteration 1810: 1.575242\n",
      "Cost after iteration 1820: 1.573261\n",
      "Cost after iteration 1830: 1.571288\n",
      "Cost after iteration 1840: 1.569332\n",
      "Cost after iteration 1850: 1.567399\n",
      "Cost after iteration 1860: 1.565496\n",
      "Cost after iteration 1870: 1.563627\n",
      "Cost after iteration 1880: 1.561789\n",
      "Cost after iteration 1890: 1.559983\n",
      "Cost after iteration 1900: 1.558213\n",
      "Cost after iteration 1910: 1.556482\n",
      "Cost after iteration 1920: 1.554789\n",
      "Cost after iteration 1930: 1.553132\n",
      "Cost after iteration 1940: 1.551508\n",
      "Cost after iteration 1950: 1.549915\n",
      "Cost after iteration 1960: 1.548356\n",
      "Cost after iteration 1970: 1.546833\n",
      "Cost after iteration 1980: 1.545350\n",
      "Cost after iteration 1990: 1.543907\n"
     ]
    }
   ],
   "source": [
    "layerdims = [6720,500,21]\n",
    "newParams,costs_new = neuralNetwork(trainX,trainY,layerdims,num_epochs=2000,learning_rate=.001) "
   ]
  },
  {
   "cell_type": "code",
   "execution_count": 395,
   "metadata": {},
   "outputs": [
    {
     "data": {
      "image/png": "[encoded data removed]",
      "text/plain": [
       "<Figure size 432x288 with 1 Axes>"
      ]
     },
     "metadata": {},
     "output_type": "display_data"
    }
   ],
   "source": [
    "plt.plot(costs)\n",
    "plt.xlabel(\"n iteration\")\n",
    "plt.ylabel(\"cost\")\n",
    "plt.show()"
   ]
  },
  {
   "cell_type": "code",
   "execution_count": 423,
   "metadata": {},
   "outputs": [
    {
     "data": {
      "image/png": "[encoded data removed]",
      "text/plain": [
       "<Figure size 432x288 with 1 Axes>"
      ]
     },
     "metadata": {},
     "output_type": "display_data"
    },
    {
     "name": "stdout",
     "output_type": "stream",
     "text": [
      "8\n",
      "2\n"
     ]
    }
   ],
   "source": [
    "index = random.randint(0,len(images))\n",
    "image = ((np.asfarray(images[index]) / 255.0 * 0.99) + 0.01 ).flatten()\n",
    "Input = np.array(image, ndmin=2).T\n",
    "display(index)\n",
    "output, _ = feedforward(Input, newParams)\n",
    "print(labels[index])\n",
    "print(np.argmax(output)+1)"
   ]
  },
  {
   "cell_type": "code",
   "execution_count": null,
   "metadata": {},
   "outputs": [],
   "source": []
  },
  {
   "cell_type": "code",
   "execution_count": 456,
   "metadata": {
    "collapsed": true
   },
   "outputs": [],
   "source": [
    "index = random.randint(0,len(images))\n",
    "Yup = []\n",
    "for i in range(0,len(images)):\n",
    "    image = ((np.asfarray(images[i]) / 255.0 * 0.99) + 0.01 ).flatten()\n",
    "    Input = np.array(image, ndmin=2).T\n",
    "    out,_ = forward_propagation(Input, parameters)\n",
    "    correct = labels[i]\n",
    "    plate = np.argmax(out)+1\n",
    "    if int(correct) == int(plate):\n",
    "        Yup.append(correct)\n"
   ]
  },
  {
   "cell_type": "code",
   "execution_count": 458,
   "metadata": {},
   "outputs": [
    {
     "name": "stdout",
     "output_type": "stream",
     "text": [
      "0.9295039164490861\n"
     ]
    }
   ],
   "source": [
    "\n",
    "print(len(Yup)/len(images))"
   ]
  },
  {
   "cell_type": "code",
   "execution_count": null,
   "metadata": {
    "collapsed": true
   },
   "outputs": [],
   "source": []
  },
  {
   "cell_type": "code",
   "execution_count": 239,
   "metadata": {
    "collapsed": true
   },
   "outputs": [],
   "source": [
    "def display(index,Type=\"train\"):\n",
    "    if Type==\"train\":\n",
    "        plt.imshow(images[index])\n",
    "        \n",
    "    elif Type==\"test\":\n",
    "        plt.imshow(test_images[index])\n",
    "        \n",
    "    plt.show()"
   ]
  }
 ],
 "metadata": {
  "kernelspec": {
   "display_name": "Python 3",
   "language": "python",
   "name": "python3"
  },
  "language_info": {
   "codemirror_mode": {
    "name": "ipython",
    "version": 3
   },
   "file_extension": ".py",
   "mimetype": "text/x-python",
   "name": "python",
   "nbconvert_exporter": "python",
   "pygments_lexer": "ipython3",
   "version": "3.6.1"
  }
 },
 "nbformat": 4,
 "nbformat_minor": 2
}
